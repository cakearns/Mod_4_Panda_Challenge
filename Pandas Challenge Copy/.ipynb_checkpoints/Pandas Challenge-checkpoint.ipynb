{
 "cells": [
  {
   "cell_type": "code",
   "execution_count": 1,
   "id": "909bb813",
   "metadata": {},
   "outputs": [],
   "source": [
    "# Dependencies and Setup\n",
    "import pandas as pd\n",
    "\n",
    "#File to Load (Remember to change these)\n",
    "school_data_to_load = \"Resources/schools_complete.csv\"\n",
    "student_data_to_load = \"Resources/students_complete.csv\"\n",
    "\n",
    "#Read School and Student Data File and store into Pandas Dataframes\n",
    "school_data = pd.read_csv(school_data_to_load)\n",
    "student_data = pd.read_csv(student_data_to_load)\n",
    "\n",
    "#Combine data into a single dataset\n",
    "school_data_complete = pd.merge(student_data, school_data, how=\"left\", on=[\"school_name\", \"school_name\"])\n",
    "\n",
    "                                        "
   ]
  },
  {
   "cell_type": "code",
   "execution_count": 3,
   "id": "f4fb7eba",
   "metadata": {},
   "outputs": [],
   "source": [
    "#Calculate the Totals (Schools and Students)\n",
    "school_count = len(school_data_complete[\"school_name\"].unique())\n",
    "student_count = school_data_complete[\"Student ID\"].count()\n",
    "\n",
    "#Calculate the Total Budget\n",
    "total_budget = school_data[\"budget\"].sum()\n"
   ]
  },
  {
   "cell_type": "code",
   "execution_count": null,
   "id": "e8519841",
   "metadata": {},
   "outputs": [],
   "source": [
    "#Calculate the Average Scores\n",
    "average_math_score = school_data_complete[\"math_score\"].mean()\n",
    "average_reading_score = school_data_complete[\"reading_score\"].mean()\n"
   ]
  },
  {
   "cell_type": "code",
   "execution_count": null,
   "id": "24934a87",
   "metadata": {},
   "outputs": [],
   "source": [
    "#Calculate the Percentage Pass Rates\n",
    "#first calculate the count of those students who passed math (70% or higher) 29,370\n",
    "passing_math_count = school_data_complete[(school_data_complete[\"math_score\"] >+ 70)].count()[\"student_name\"]\n",
    "#Second calculate the percentage of who passed math - divide the pass math count / student count (~74.98%)\n",
    "passing_math_percentage = (passsing_math_count / float(students_count)) * 100\n",
    "passing_math_precentage\n",
    "#Third  calculate the count of those students who passed reading (70% or higher) - 33,610\n",
    "passing_reading_count = school_data_complete[(school_data_complete[\"reading_score\"] >+ 70)].count()[\"student_name\"]\n",
    "#Fourth calculate the percentage of who passed reading - divide the pass reading count / student count (85.81%)\n",
    "passing_reading_percentage = (passing_reading_count / float(students_count)) * 100\n",
    "passing_reading_percentage\n",
    "#Fifth calculate the count of those students who passed math and reading (70% or higher) - 25,528\n",
    "passing_reading_count = school_data_complete[(school_data_complete[\"math_score\"] >+ 70)].count()[\"student_name\"] &\n",
    "                                            (school_data_complete[\"reading_score\"] >+ 70)].count()[\"student_name\"]    \n",
    "passing_math_reading_count\n",
    "\n",
    "#Sixth calculate the percentage who passed math and reading - divide the pass math andreading count / student count #~65.17%\n",
    "passing_math_reading_percentage = (passing_math_reading_count / float(student_count)) * 100\n",
    "passing_math_reading_percentage\n",
    "\n"
   ]
  },
  {
   "cell_type": "code",
   "execution_count": null,
   "id": "274ebc99",
   "metadata": {},
   "outputs": [],
   "source": [
    "#Minor Data Cleanup\n",
    "district_summary = pd.DataFrame({\n",
    "    \"Total Schools\": [school_count],\n",
    "    \"Total Students\": [student_count],\n",
    "    \"Total Budget\": [total_budget],\n",
    "    \"Average Math Score\": [average_math_score],\n",
    "    \"Average Reading Score\": [average_reading_score],\n",
    "    \"% Passing Math\": [passing_math_percentage],\n",
    "    \"% Passing Reading\": [passing_reading_percentage],\n",
    "    \"% Overall Passing\": [passing_math_reading_percentage]\n",
    "  \n",
    "})\n",
    "\n",
    "#Formatting\n",
    "district_summary[\"Total Students\"] = district_summary[\"Total Students\"].map(\"{:,}\".format)\n",
    "district_summary[\"Total Budget\"] = district_summary[\"Total Budget\"].map(\"${:,.2f}\".format)\n",
    "district_summary[\"Average Math Score\"] = district_summary[\"Average Math Score\"].map(\"${:.2f}\".format)\n",
    "district_summary[\"Average Reading Score\"] = district_summary[\"Average Reading Score\"].map(\"${:,.2f}\".format)\n",
    "district_summary[\"% Passing Math\"] = district_summary[\"% Passing Math\"].map(\"${:,.2f}%\".format)\n",
    "district_summary[\"% Passing Reading\"] = district_summary[\"% Passing Reading\"].map(\"${:,.2f}%\".format)\n",
    "district_summary[\"% Overall Passing\"] = district_summary[\"% Overall Passing\"].map(\"${:,.2f}%\".format)\n",
    "\n",
    "#Display the DataFrame\n",
    "district_summary\n"
   ]
  },
  {
   "cell_type": "raw",
   "id": "7ee13c88",
   "metadata": {},
   "source": []
  },
  {
   "cell_type": "code",
   "execution_count": null,
   "id": "d60af804",
   "metadata": {},
   "outputs": [],
   "source": [
    "school_data.head"
   ]
  },
  {
   "cell_type": "code",
   "execution_count": null,
   "id": "abbbcb87",
   "metadata": {},
   "outputs": [],
   "source": [
    "school_data_complete.head(3)"
   ]
  },
  {
   "cell_type": "code",
   "execution_count": null,
   "id": "7bdf125b",
   "metadata": {},
   "outputs": [],
   "source": [
    "#Determine the School Type\n",
    "school_types = school_data.set_index([\"school name\"])[\"type\"]\n",
    "school_types.head(3)\n",
    "\n",
    "#Calculate the total student count\n",
    "per_school_counts - school_data_complet[\"school_name\"].value_counts()\n",
    "per_school_counts\n",
    "\n",
    "\n",
    "#Calculate the total school budget and per capita spending\n",
    "per_school_budget = school_data_complete.grouby([\"school_name\"]).mean()[\"budget\"]\n",
    "per_school_budget\n",
    "per_school_capita = per_school_budget / per_school_counts\n",
    "per_school_capita\n",
    "\n",
    "#Per_school_budget = school_data_complete.groupby([\"school_name\"]).mean()[\"budget\"]\n",
    "\n",
    "#Calculate the average test scored\n",
    "per_school_math = school_data_complete.groupby([\"school_name\"]).mean()[\"math_score\"]\n",
    "per_school_math\n",
    "\n",
    "per_school_reading = school_data_complete.groupby([\"school_name\"]).mean()[\"reading_score\"]\n",
    "per_school_reading\n",
    "\n",
    "\n"
   ]
  },
  {
   "cell_type": "code",
   "execution_count": null,
   "id": "4444d319",
   "metadata": {},
   "outputs": [],
   "source": [
    "#Get the students who passed math and reading by creating separate filtered DataFrames\n",
    "school_passing_math = school_data_complete[(school_data_complete[\"math_score\"] >= 70)]\n",
    "school_passing_math.head()\n",
    "\n",
    "school_passing_reading = school_data_complete[(school_data_complete[\"reading_score\"] >= 70)]\n",
    "school_passing_reading.head()\n",
    "\n",
    "#Get the students who passed both reading and math in a separate DataFrame\n",
    "passing_math_and_reading = school_data_complete[(school_data_complete[\"math_score\"] >= 70) & \n",
    "                                                (school_data_complete[\"reading_score\"]>=70)]\n",
    "passing_math_and_reading.head()\n"
   ]
  },
  {
   "cell_type": "code",
   "execution_count": null,
   "id": "39322451",
   "metadata": {},
   "outputs": [],
   "source": [
    "#Calculate the Percentage Pass Rates\n",
    "#Calculate the precentage of students who passed math per school\n",
    "per_school_passing_math = school_passing_math.grouby([\"school name\"]).count [\"student_name\"] / per_school_counts\n",
    "*100\n",
    "per_school_math\n",
    "\n",
    "#Calculate the precentage of students who passed reading per school\n",
    "per_school_passing_reading = school_passing_reading.grouby([\"school name\"]).count [\"student_name\"] / per_school_counts\n",
    "*100\n",
    "per_school_reading\n",
    "\n",
    "\n",
    "#Calculate the precentage of students who passed math and reading per school\n",
    "per_school_passing_math_and_reading = passing_math_and_reading.grouby([\"school name\"]).count [\"student_name\"] / per_school_counts\n",
    "*100\n",
    "per_school_math_and_reading\n"
   ]
  },
  {
   "cell_type": "code",
   "execution_count": null,
   "id": "7efe6a76",
   "metadata": {},
   "outputs": [],
   "source": [
    "#Convert to DataFrame\n",
    "per_school_summary = pdDataFrame({\n",
    "    \"School Type\": school_types,\n",
    "    \"Total Students\": per_school_counts,\n",
    "    \"Total School Budget\": per_school_budget,\n",
    "    \"Per Student Budget\": per_school_capita, \n",
    "    \"Average Math Score\": per_school_math,\n",
    "    \"Average Reading Score\": per_school_reading,\n",
    "    \"% Passing Math\": per_school_passing_math, \n",
    "    \"% Passing Reading\": per_school_passing_reading,\n",
    "    \"Overall Passing Rate\": per_school_passing_math_reading   \n",
    "\n",
    "})\n",
    "\n",
    "#Minor data wrangling\n",
    "per_school_summary[\"Total Students\"] = per_school_Summary[\"Total Students\"]\n",
    "\n",
    "\n",
    "#Display the DataFrame\n",
    "per_school_summary"
   ]
  }
 ],
 "metadata": {
  "kernelspec": {
   "display_name": "Python 3 (ipykernel)",
   "language": "python",
   "name": "python3"
  },
  "language_info": {
   "codemirror_mode": {
    "name": "ipython",
    "version": 3
   },
   "file_extension": ".py",
   "mimetype": "text/x-python",
   "name": "python",
   "nbconvert_exporter": "python",
   "pygments_lexer": "ipython3",
   "version": "3.8.2"
  }
 },
 "nbformat": 4,
 "nbformat_minor": 5
}
