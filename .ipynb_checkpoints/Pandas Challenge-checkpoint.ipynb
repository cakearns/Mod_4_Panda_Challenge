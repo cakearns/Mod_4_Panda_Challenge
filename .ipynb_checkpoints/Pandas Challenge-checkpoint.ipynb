{
 "cells": [
  {
   "cell_type": "code",
   "execution_count": null,
   "id": "909bb813",
   "metadata": {},
   "outputs": [],
   "source": [
    "# Dependencies and Setup\n",
    "import pandas as pd\n",
    "\n",
    "#File to Load (Remember to change these)\n",
    "school_data_to_load = \"Resources/schools_complete.csv\"\n",
    "student_data_to_load = \"Resources/students_complete.csv\"\n",
    "\n",
    "#Read School and Student Data File and store into Pandas Dataframes\n",
    "school_data = pd.read_csv(school_data_to_load)\n",
    "student_data = pd.read_csv(student_data_to_load)\n",
    "\n",
    "#Combine data into a single dataset\n",
    "school_data_complete = pd.merge(student_data, school_data, how=\"left\", on=[\"school_name\", \"school_name\"])\n",
    "\n",
    "school_data_complete"
   ]
  },
  {
   "cell_type": "code",
   "execution_count": null,
   "id": "f4fb7eba",
   "metadata": {},
   "outputs": [],
   "source": [
    "#Calculate the Totals (Schools and Students)\n",
    "school_count = len(school_data_complete[\"school_name\"].unique())\n",
    "student_count = school_data_complete[\"Student ID\"].count()\n",
    "\n",
    "#Calculate the Total Budget\n",
    "total_budget = school_data[\"budget\"].sum()\n"
   ]
  },
  {
   "cell_type": "code",
   "execution_count": null,
   "id": "e8519841",
   "metadata": {},
   "outputs": [],
   "source": [
    "#Calculate the Average Scores\n",
    "average_math_score = school_data_complete[\"math_score\"].mean()\n",
    "average_reading_score = school_data_complete[\"reading_score\"].mean()\n"
   ]
  },
  {
   "cell_type": "code",
   "execution_count": null,
   "id": "24934a87",
   "metadata": {},
   "outputs": [],
   "source": [
    "#Calculate the Percentage Pass Rates\n",
    "#first calculate the count of those students who passed math (70% or higher) 29,370\n",
    "passing_math_count = school_data_complete[(school_data_complete[\"math_score\"] >= 70)].count()[\"student_name\"]\n",
    "#Second calculate the percentage of who passed math - divide the pass math count / student count (~74.98%)\n",
    "passing_math_percentage = (passing_math_count / float(student_count)) * 100\n",
    "passing_math_percentage\n",
    "\n",
    "#Third  calculate the count of those students who passed reading (70% or higher) - 33,610\n",
    "passing_reading_count = school_data_complete[(school_data_complete[\"reading_score\"] >= 70)].count()[\"student_name\"]\n",
    "\n",
    "#Fourth calculate the percentage of who passed reading - divide the pass reading count / student count (85.81%)\n",
    "passing_reading_percentage = (passing_reading_count / float(student_count)) * 100\n",
    "passing_reading_percentage\n",
    "\n",
    "#Fifth calculate the count of those students who passed math and reading (70% or higher) - 25,528\n",
    "passing_math_reading_count = school_data_complete[(school_data_complete[\"math_score\"] >= 70) & (school_data_complete[\"reading_score\"] >= 70)].count()[\"student_name\"]    \n",
    "passing_math_reading_count\n",
    "\n",
    "#Sixth calculate the percentage who passed math and reading - divide the pass math andreading count / student count #~65.17%\n",
    "passing_math_reading_percentage = (passing_math_reading_count / float(student_count)) * 100\n",
    "passing_math_reading_percentage\n",
    "\n"
   ]
  },
  {
   "cell_type": "code",
   "execution_count": null,
   "id": "274ebc99",
   "metadata": {},
   "outputs": [],
   "source": [
    "#Minor Data Cleanup\n",
    "district_summary = pd.DataFrame({\n",
    "    \"Total Schools\": [school_count],\n",
    "    \"Total Students\": [student_count],\n",
    "    \"Total Budget\": [total_budget],\n",
    "    \"Average Math Score\": [average_math_score],\n",
    "    \"Average Reading Score\": [average_reading_score],\n",
    "    \"% Passing Math\": [passing_math_percentage],\n",
    "    \"% Passing Reading\": [passing_reading_percentage],\n",
    "    \"% Overall Passing\": [passing_math_reading_percentage]\n",
    "  \n",
    "})\n",
    "\n",
    "#Formatting\n",
    "district_summary[\"Total Students\"] = district_summary[\"Total Students\"].map(\"{:,}\".format)\n",
    "district_summary[\"Total Budget\"] = district_summary[\"Total Budget\"].map(\"${:,.2f}\".format)\n",
    "district_summary[\"Average Math Score\"] = district_summary[\"Average Math Score\"].map(\"{:.2f}\".format)\n",
    "district_summary[\"Average Reading Score\"] = district_summary[\"Average Reading Score\"].map(\"{:,.2f}\".format)\n",
    "district_summary[\"% Passing Math\"] = district_summary[\"% Passing Math\"].map(\"{:,.2f}%\".format)\n",
    "district_summary[\"% Passing Reading\"] = district_summary[\"% Passing Reading\"].map(\"{:,.2f}%\".format)\n",
    "district_summary[\"% Overall Passing\"] = district_summary[\"% Overall Passing\"].map(\"{:,.2f}%\".format)\n",
    "\n",
    "#Display the DataFrame\n",
    "district_summary\n"
   ]
  },
  {
   "cell_type": "raw",
   "id": "7ee13c88",
   "metadata": {},
   "source": []
  },
  {
   "cell_type": "code",
   "execution_count": null,
   "id": "d60af804",
   "metadata": {},
   "outputs": [],
   "source": [
    "school_data.head()"
   ]
  },
  {
   "cell_type": "code",
   "execution_count": null,
   "id": "abbbcb87",
   "metadata": {},
   "outputs": [],
   "source": [
    "school_data_complete.head(3)"
   ]
  },
  {
   "cell_type": "code",
   "execution_count": null,
   "id": "7bdf125b",
   "metadata": {},
   "outputs": [],
   "source": [
    "#Determine the School Type\n",
    "school_types = school_data.set_index([\"school_name\"])[\"type\"]\n",
    "school_types.head(3)\n",
    "\n",
    "#Calculate the total student count\n",
    "per_school_count = school_data_complete[\"school_name\"].value_counts()\n",
    "per_school_count\n",
    "\n",
    "\n",
    "#Calculate the total school budget and per capita spending\n",
    "per_school_budget = school_data_complete.groupby([\"school_name\"]).mean()[\"budget\"]\n",
    "per_school_budget\n",
    "per_school_capita = per_school_budget / per_school_count\n",
    "per_school_capita\n",
    "\n",
    "#Per_school_budget = school_data_complete.groupby([\"school_name\"]).mean()[\"budget\"]\n",
    "\n",
    "#Calculate the average test scored\n",
    "per_school_math = school_data_complete.groupby([\"school_name\"]).mean()[\"math_score\"]\n",
    "per_school_math\n",
    "\n",
    "per_school_reading = school_data_complete.groupby([\"school_name\"]).mean()[\"reading_score\"]\n",
    "per_school_reading\n",
    "\n",
    "\n"
   ]
  },
  {
   "cell_type": "code",
   "execution_count": null,
   "id": "4444d319",
   "metadata": {},
   "outputs": [],
   "source": [
    "#Get the students who passed math and reading by creating separate filtered DataFrames\n",
    "school_passing_math = school_data_complete[(school_data_complete[\"math_score\"] >= 70)]\n",
    "school_passing_math.head()\n",
    "\n",
    "school_passing_reading = school_data_complete[(school_data_complete[\"reading_score\"] >= 70)]\n",
    "school_passing_reading.head()\n",
    "\n",
    "#Get the students who passed both reading and math in a separate DataFrame\n",
    "passing_math_and_reading = school_data_complete[(school_data_complete[\"math_score\"] >= 70) & \n",
    "                                                (school_data_complete[\"reading_score\"]>=70)]\n",
    "passing_math_and_reading.head()\n"
   ]
  },
  {
   "cell_type": "code",
   "execution_count": null,
   "id": "39322451",
   "metadata": {},
   "outputs": [],
   "source": [
    "\n",
    "#Calculate the Percentage Pass Rates\n",
    "#Calculate the precentage of students who passed math per school\n",
    "per_school_passing_math = school_passing_math.groupby([\"school_name\"]).count()[\"student_name\"] / per_school_count *100\n",
    "per_school_math\n",
    "\n",
    "#Calculate the percentage of students who passed reading per school\n",
    "per_school_passing_reading = school_passing_reading.groupby([\"school_name\"]).count()[\"student_name\"] / per_school_count *100\n",
    "per_school_reading\n",
    "\n",
    "\n",
    "#Calculate the precentage of students who passed math and reading per school\n",
    "per_school_passing_math_and_reading = passing_math_and_reading.groupby([\"school_name\"]).count()[\"student_name\"] / per_school_count *100\n",
    "per_school_passing_math_and_reading\n"
   ]
  },
  {
   "cell_type": "code",
   "execution_count": null,
   "id": "7efe6a76",
   "metadata": {},
   "outputs": [],
   "source": [
    "#Convert to DataFrame\n",
    "per_school_summary = pd.DataFrame({\n",
    "    \"School Type\": school_types,\n",
    "    \"Total Students\": per_school_count,\n",
    "    \"Total School Budget\": per_school_budget,\n",
    "    \"Per Student Budget\": per_school_capita, \n",
    "    \"Average Math Score\": per_school_math,\n",
    "    \"Average Reading Score\": per_school_reading,\n",
    "    \"% Passing Math\": per_school_passing_math, \n",
    "    \"% Passing Reading\": per_school_passing_reading,\n",
    "    \"% Overall Passing\": per_school_passing_math_and_reading   \n",
    "\n",
    "})\n",
    "\n",
    "#Minor data wrangling\n",
    "per_school_summary[\"Total Students\"] = per_school_summary[\"Total Students\"]\n",
    "\n",
    "\n",
    "#Display the DataFrame\n",
    "per_school_summary\n",
    "\n",
    "\n"
   ]
  },
  {
   "cell_type": "markdown",
   "id": "1e76e342",
   "metadata": {},
   "source": [
    "## Highest Performing Schools (Top 5)"
   ]
  },
  {
   "cell_type": "code",
   "execution_count": null,
   "id": "91bf4ac7",
   "metadata": {},
   "outputs": [],
   "source": [
    "top_school_summaries = per_school_summary.sort_values([\"% Overall Passing\"], ascending = False)\n",
    "top_school_summaries.head()\n"
   ]
  },
  {
   "cell_type": "markdown",
   "id": "bbf5f5d8",
   "metadata": {},
   "source": [
    "## Bottom 5 Schools"
   ]
  },
  {
   "cell_type": "code",
   "execution_count": null,
   "id": "32fa3930",
   "metadata": {},
   "outputs": [],
   "source": [
    "bottom_schools = per_school_summary.sort_values([\"% Overall Passing\"])\n",
    "bottom_schools.head()\n"
   ]
  },
  {
   "cell_type": "markdown",
   "id": "fec2cda6",
   "metadata": {},
   "source": [
    "## Math Scores by Grade"
   ]
  },
  {
   "cell_type": "code",
   "execution_count": null,
   "id": "8ab546d4",
   "metadata": {},
   "outputs": [],
   "source": [
    "ninth_graders = school_data_complete[school_data_complete['grade']=='9th']\n",
    "tenth_graders = school_data_complete[school_data_complete['grade']=='10th']\n",
    "eleventh_graders = school_data_complete[school_data_complete['grade']=='11th']\n",
    "twelfth_graders = school_data_complete[school_data_complete['grade']=='12th']\n",
    "\n",
    "ninth_grade_scores = ninth_graders.groupby([\"school_name\"]).mean()\n",
    "tenth_grade_scores = tenth_graders.groupby([\"school_name\"]).mean()\n",
    "eleventh_grade_scores = eleventh_graders.groupby([\"school_name\"]).mean()\n",
    "twelfth_grade_scores = twelfth_graders.groupby([\"school_name\"]).mean()\n",
    "\n",
    "ninth_grade_math_scores = ninth_grade_scores[\"math_score\"]\n",
    "tenth_grade_math_scores = tenth_grade_scores[\"math_score\"]\n",
    "eleventh_grade_math_scores = eleventh_grade_scores[\"math_score\"]\n",
    "twelfth_grade_math_scores = twelfth_grade_scores[\"math_score\"]\n",
    "\n",
    "math_scores_by_grade = pd.DataFrame({\n",
    "    \n",
    "    \"9th\":ninth_grade_math_scores,\n",
    "    \"10th\":tenth_grade_math_scores,\n",
    "    \"11th\":eleventh_grade_math_scores,\n",
    "    \"12th\":twelfth_grade_math_scores\n",
    "    \n",
    "})\n",
    "\n",
    "\n",
    "math_scores_by_grade"
   ]
  },
  {
   "cell_type": "markdown",
   "id": "ccbf3069",
   "metadata": {},
   "source": [
    "## Reading Scores by Grade"
   ]
  },
  {
   "cell_type": "code",
   "execution_count": null,
   "id": "5745addc",
   "metadata": {},
   "outputs": [],
   "source": [
    "ninth_grade_reading_scores = ninth_grade_scores[\"reading_score\"]\n",
    "tenth_grade_reading_scores = tenth_grade_scores[\"reading_score\"]\n",
    "eleventh_grade_reading_scores = eleventh_grade_scores[\"reading_score\"]\n",
    "twelfth_grade_reading_scores = twelfth_grade_scores[\"reading_score\"]\n",
    "\n",
    "reading_scores_by_grade = pd.DataFrame({\n",
    "    \n",
    "    \"9th\":ninth_grade_reading_scores,\n",
    "    \"10th\":tenth_grade_reading_scores,\n",
    "    \"11th\":eleventh_grade_reading_scores,\n",
    "    \"12th\":twelfth_grade_reading_scores\n",
    "    \n",
    "})\n",
    "\n",
    "\n",
    "reading_scores_by_grade\n",
    "\n"
   ]
  },
  {
   "cell_type": "markdown",
   "id": "f2e7e3a0",
   "metadata": {},
   "source": [
    "## Scores by School Spending"
   ]
  },
  {
   "cell_type": "code",
   "execution_count": null,
   "id": "374c6cfc",
   "metadata": {},
   "outputs": [],
   "source": [
    "# Create the bins in which Data will be held\n",
    "# Bins are 0, 59.9, 69.9, 79.9, 89.9, 100.   \n",
    "bins = [0, 585, 630, 645, 680]\n",
    "\n",
    "# Create the names for the five bins\n",
    "group_names = [\"<$585\", \"$585-$630\", \"$630-$645\", \"$645-$680\"]\n"
   ]
  },
  {
   "cell_type": "code",
   "execution_count": null,
   "id": "3ee2ef4b",
   "metadata": {
    "scrolled": true
   },
   "outputs": [],
   "source": [
    "per_school_summary[\"Spending Ranges Per Student\"] = pd.cut(per_school_capita, bins, labels=group_names)\n",
    "per_school_summary"
   ]
  },
  {
   "cell_type": "code",
   "execution_count": null,
   "id": "6481264d",
   "metadata": {},
   "outputs": [],
   "source": [
    "average_math = per_school_summary.groupby([\"Spending Ranges Per Student\"]).mean()[\"Average Math Score\"]\n",
    "average_reading = per_school_summary.groupby([\"Spending Ranges Per Student\"]).mean()[\"Average Reading Score\"]\n",
    "passing_math = per_school_summary.groupby([\"Spending Ranges Per Student\"]).mean()[\"% Passing Math\"]\n",
    "passing_reading = per_school_summary.groupby([\"Spending Ranges Per Student\"]).mean()[\"% Passing Reading\"]\n",
    "passing_overall = per_school_summary.groupby([\"Spending Ranges Per Student\"]).mean()[\"% Overall Passing\"]\n",
    "\n",
    "bin_school_spending = pd.DataFrame({\n",
    "    \"Average Math Score\": average_math,\n",
    "    \"Average Reading Score\": average_reading,\n",
    "    \"% Passing Math\": passing_math, \n",
    "    \"% Passing Reading\": passing_reading,\n",
    "    \"% Overall Passing\": passing_overall   \n",
    "})\n",
    "\n",
    "bin_school_spending"
   ]
  },
  {
   "cell_type": "markdown",
   "id": "4312c6df",
   "metadata": {},
   "source": [
    "## Scores by School Size"
   ]
  },
  {
   "cell_type": "code",
   "execution_count": null,
   "id": "cae5911c",
   "metadata": {},
   "outputs": [],
   "source": [
    "# Establish the bins.\n",
    "size_bins = [0, 1000, 2000, 5000]\n",
    "group_names = [\"Small (<1000)\", \"Medium (1000-2000)\", \"Large (2000-5000)\"]"
   ]
  },
  {
   "cell_type": "code",
   "execution_count": null,
   "id": "125e4ec8",
   "metadata": {},
   "outputs": [],
   "source": [
    "# Categorize the spending based on the bins\n",
    "per_school_summary[\"School Size\"] = pd.cut(per_school_summary[\"Total Students\"], size_bins, labels=group_names)\n",
    "per_school_summary"
   ]
  },
  {
   "cell_type": "code",
   "execution_count": null,
   "id": "eab7df04",
   "metadata": {},
   "outputs": [],
   "source": [
    "# Calculate averages for the desired columns. \n",
    "math_spending_scores = per_school_summary.groupby([\"School Size\"]).mean()[\"Average Math Score\"]\n",
    "reading_spending_scores = per_school_summary.groupby([\"School Size\"]).mean()[\"Average Reading Score\"]\n",
    "math_spending_passing_scores = per_school_summary.groupby([\"School Size\"]).mean()[\"% Passing Math\"]\n",
    "reading_spending_passing_scores = per_school_summary.groupby([\"School Size\"]).mean()[\"% Passing Reading\"]\n",
    "math_reading_spending_passing_scores = per_school_summary.groupby([\"School Size\"]).mean()[\"% Overall Passing\"]"
   ]
  },
  {
   "cell_type": "code",
   "execution_count": null,
   "id": "e06bfac9",
   "metadata": {},
   "outputs": [],
   "source": [
    "# Assemble into DataFrame\n",
    "size_summary = pd.DataFrame({\n",
    "    \"Average Math Scores\": math_spending_scores,\n",
    "    \"Average Reading Score\": reading_spending_scores,\n",
    "    \"% Passing Math\": math_spending_passing_scores,\n",
    "    \"% Passing Reading\": reading_spending_passing_scores,\n",
    "    \"% Overall Passing\": math_reading_spending_passing_scores  \n",
    "})\n",
    "# Minor data wrangling\n",
    "\n",
    "# Display results\n",
    "size_summary"
   ]
  },
  {
   "cell_type": "code",
   "execution_count": null,
   "id": "030bbaa7",
   "metadata": {},
   "outputs": [],
   "source": []
  },
  {
   "cell_type": "code",
   "execution_count": null,
   "id": "d8fcb914",
   "metadata": {},
   "outputs": [],
   "source": []
  },
  {
   "cell_type": "markdown",
   "id": "d651464e",
   "metadata": {},
   "source": [
    "## Scores by Schools Type"
   ]
  },
  {
   "cell_type": "code",
   "execution_count": null,
   "id": "f86ed666",
   "metadata": {},
   "outputs": [],
   "source": [
    "#  Create new series using groupby for\"\n",
    "# Type | Average Math Score | Average Reading Score | % Passing Math | % Passing Reading | % Overall Passing\n",
    "type_math_scores = per_school_summary.groupby([\"School Type\"]).mean()[\"Average Math Score\"]\n",
    "type_reading_scores = per_school_summary.groupby([\"School Type\"]).mean()[\"Average Reading Score\"]\n",
    "type_passing_math = per_school_summary.groupby([\"School Type\"]).mean()[\"% Passing Math\"]\n",
    "type_passing_reading = per_school_summary.groupby([\"School Type\"]).mean()[\"% Passing Reading\"]\n",
    "type_overall_passing = per_school_summary.groupby([\"School Type\"]).mean()[\"% Overall Passing\"]"
   ]
  },
  {
   "cell_type": "code",
   "execution_count": 2,
   "id": "9c153c7b",
   "metadata": {},
   "outputs": [
    {
     "ename": "NameError",
     "evalue": "name 'pd' is not defined",
     "output_type": "error",
     "traceback": [
      "\u001b[0;31m---------------------------------------------------------------------------\u001b[0m",
      "\u001b[0;31mNameError\u001b[0m                                 Traceback (most recent call last)",
      "Input \u001b[0;32mIn [2]\u001b[0m, in \u001b[0;36m<cell line: 2>\u001b[0;34m()\u001b[0m\n\u001b[1;32m      1\u001b[0m \u001b[38;5;66;03m# Assemble into DataFrame\u001b[39;00m\n\u001b[0;32m----> 2\u001b[0m type_summary \u001b[38;5;241m=\u001b[39m \u001b[43mpd\u001b[49m\u001b[38;5;241m.\u001b[39mDataFrame({\n\u001b[1;32m      3\u001b[0m     \u001b[38;5;124m\"\u001b[39m\u001b[38;5;124mAverage Math Scores\u001b[39m\u001b[38;5;124m\"\u001b[39m: type_math_scores,\n\u001b[1;32m      4\u001b[0m     \u001b[38;5;124m\"\u001b[39m\u001b[38;5;124mAverage Reading Score\u001b[39m\u001b[38;5;124m\"\u001b[39m: type_reading_scores,\n\u001b[1;32m      5\u001b[0m     \u001b[38;5;124m\"\u001b[39m\u001b[38;5;124m%\u001b[39m\u001b[38;5;124m Passing Math\u001b[39m\u001b[38;5;124m\"\u001b[39m: type_passing_math,\n\u001b[1;32m      6\u001b[0m     \u001b[38;5;124m\"\u001b[39m\u001b[38;5;124m%\u001b[39m\u001b[38;5;124m Passing Reading\u001b[39m\u001b[38;5;124m\"\u001b[39m: type_passing_reading,\n\u001b[1;32m      7\u001b[0m     \u001b[38;5;124m\"\u001b[39m\u001b[38;5;124m%\u001b[39m\u001b[38;5;124m Overall Passing\u001b[39m\u001b[38;5;124m\"\u001b[39m: type_overall_passing  \n\u001b[1;32m      8\u001b[0m })\n\u001b[1;32m     10\u001b[0m \u001b[38;5;66;03m# Display results\u001b[39;00m\n\u001b[1;32m     11\u001b[0m type_summary\n",
      "\u001b[0;31mNameError\u001b[0m: name 'pd' is not defined"
     ]
    }
   ],
   "source": [
    "# Assemble into DataFrame\n",
    "type_summary = pd.DataFrame({\n",
    "    \"Average Math Scores\": type_math_scores,\n",
    "    \"Average Reading Score\": type_reading_scores,\n",
    "    \"% Passing Math\": type_passing_math,\n",
    "    \"% Passing Reading\": type_passing_reading,\n",
    "    \"% Overall Passing\": type_overall_passing  \n",
    "})\n",
    "\n",
    "# Display results\n",
    "type_summary"
   ]
  },
  {
   "cell_type": "code",
   "execution_count": null,
   "id": "385edcda",
   "metadata": {},
   "outputs": [],
   "source": []
  }
 ],
 "metadata": {
  "kernelspec": {
   "display_name": "Python 3 (ipykernel)",
   "language": "python",
   "name": "python3"
  },
  "language_info": {
   "codemirror_mode": {
    "name": "ipython",
    "version": 3
   },
   "file_extension": ".py",
   "mimetype": "text/x-python",
   "name": "python",
   "nbconvert_exporter": "python",
   "pygments_lexer": "ipython3",
   "version": "3.8.2"
  }
 },
 "nbformat": 4,
 "nbformat_minor": 5
}
